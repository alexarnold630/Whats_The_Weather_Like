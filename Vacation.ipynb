{
 "cells": [
  {
   "cell_type": "markdown",
   "metadata": {},
   "source": [
    "# VacationPy"
   ]
  },
  {
   "cell_type": "code",
   "execution_count": 1,
   "metadata": {},
   "outputs": [],
   "source": [
    "import pandas as pd\n",
    "import numpy as np\n",
    "import json\n",
    "import requests\n",
    "import time\n",
    "from pprint import pprint \n",
    "\n",
    "import matplotlib.pyplot as plt\n",
    "import seaborn as sns\n",
    "\n",
    "# Import API key\n",
    "from api_keys import weather_api_key\n",
    "\n",
    "import gmaps\n",
    "from api_keys import g_key\n",
    "gmaps.configure(api_key=g_key)"
   ]
  },
  {
   "cell_type": "code",
   "execution_count": 3,
   "metadata": {},
   "outputs": [
    {
     "data": {
      "text/html": [
       "<div>\n",
       "<style scoped>\n",
       "    .dataframe tbody tr th:only-of-type {\n",
       "        vertical-align: middle;\n",
       "    }\n",
       "\n",
       "    .dataframe tbody tr th {\n",
       "        vertical-align: top;\n",
       "    }\n",
       "\n",
       "    .dataframe thead th {\n",
       "        text-align: right;\n",
       "    }\n",
       "</style>\n",
       "<table border=\"1\" class=\"dataframe\">\n",
       "  <thead>\n",
       "    <tr style=\"text-align: right;\">\n",
       "      <th></th>\n",
       "      <th>City ID</th>\n",
       "      <th>City</th>\n",
       "      <th>Latitude</th>\n",
       "      <th>Longitude</th>\n",
       "      <th>Temperature</th>\n",
       "      <th>Humidity</th>\n",
       "      <th>Cloudiness</th>\n",
       "      <th>Wind Speed</th>\n",
       "    </tr>\n",
       "  </thead>\n",
       "  <tbody>\n",
       "    <tr>\n",
       "      <th>0</th>\n",
       "      <td>0</td>\n",
       "      <td>Punta Arenas</td>\n",
       "      <td>-53.15</td>\n",
       "      <td>-70.92</td>\n",
       "      <td>46.40</td>\n",
       "      <td>81</td>\n",
       "      <td>90</td>\n",
       "      <td>8.05</td>\n",
       "    </tr>\n",
       "    <tr>\n",
       "      <th>1</th>\n",
       "      <td>1</td>\n",
       "      <td>Bengkulu</td>\n",
       "      <td>-3.80</td>\n",
       "      <td>102.27</td>\n",
       "      <td>75.29</td>\n",
       "      <td>86</td>\n",
       "      <td>100</td>\n",
       "      <td>4.03</td>\n",
       "    </tr>\n",
       "    <tr>\n",
       "      <th>2</th>\n",
       "      <td>2</td>\n",
       "      <td>Severo-Kuril'sk</td>\n",
       "      <td>50.68</td>\n",
       "      <td>156.12</td>\n",
       "      <td>38.79</td>\n",
       "      <td>73</td>\n",
       "      <td>98</td>\n",
       "      <td>31.65</td>\n",
       "    </tr>\n",
       "    <tr>\n",
       "      <th>3</th>\n",
       "      <td>3</td>\n",
       "      <td>Lillooet</td>\n",
       "      <td>50.69</td>\n",
       "      <td>-121.94</td>\n",
       "      <td>50.85</td>\n",
       "      <td>93</td>\n",
       "      <td>90</td>\n",
       "      <td>8.05</td>\n",
       "    </tr>\n",
       "    <tr>\n",
       "      <th>4</th>\n",
       "      <td>4</td>\n",
       "      <td>Tahoua</td>\n",
       "      <td>14.89</td>\n",
       "      <td>5.27</td>\n",
       "      <td>82.40</td>\n",
       "      <td>23</td>\n",
       "      <td>0</td>\n",
       "      <td>4.70</td>\n",
       "    </tr>\n",
       "  </tbody>\n",
       "</table>\n",
       "</div>"
      ],
      "text/plain": [
       "   City ID             City  Latitude  Longitude  Temperature  Humidity  \\\n",
       "0        0     Punta Arenas    -53.15     -70.92        46.40        81   \n",
       "1        1         Bengkulu     -3.80     102.27        75.29        86   \n",
       "2        2  Severo-Kuril'sk     50.68     156.12        38.79        73   \n",
       "3        3         Lillooet     50.69    -121.94        50.85        93   \n",
       "4        4           Tahoua     14.89       5.27        82.40        23   \n",
       "\n",
       "   Cloudiness  Wind Speed  \n",
       "0          90        8.05  \n",
       "1         100        4.03  \n",
       "2          98       31.65  \n",
       "3          90        8.05  \n",
       "4           0        4.70  "
      ]
     },
     "execution_count": 3,
     "metadata": {},
     "output_type": "execute_result"
    }
   ],
   "source": [
    "filepath = \"cities_new.csv\"\n",
    "df = pd.read_csv(filepath)\n",
    "#df = df.drop(['Unnamed: 0'], axis=1)\n",
    "df = df.rename(columns={\"City Name\": \"City\"})\n",
    "df.head()"
   ]
  },
  {
   "cell_type": "code",
   "execution_count": 4,
   "metadata": {
    "scrolled": true
   },
   "outputs": [
    {
     "data": {
      "application/vnd.jupyter.widget-view+json": {
       "model_id": "2c27b14fc7d2473b8e1ed8f11bf768aa",
       "version_major": 2,
       "version_minor": 0
      },
      "text/plain": [
       "Figure(layout=FigureLayout(border='1px solid black', height='600px', margin='0 auto 0 auto', padding='1px', wi…"
      ]
     },
     "metadata": {},
     "output_type": "display_data"
    }
   ],
   "source": [
    "coords = df[[\"Latitude\", \"Longitude\"]]\n",
    "humids = df[\"Humidity\"]\n",
    "\n",
    "# Customize the size of the figure\n",
    "figure_layout = {\n",
    "    'width': '1200px',\n",
    "    'height': '600px',\n",
    "    'border': '1px solid black',\n",
    "    'padding': '1px',\n",
    "    'margin': '0 auto 0 auto'\n",
    "}\n",
    "fig = gmaps.figure(layout=figure_layout, map_type = \"SATELLITE\")\n",
    "\n",
    "heat = gmaps.heatmap_layer(coords, weights = humids, dissipating=False, max_intensity = 500)\n",
    "# Add the layer to the map\n",
    "fig.add_layer(heat)\n",
    "\n",
    "fig"
   ]
  },
  {
   "cell_type": "code",
   "execution_count": null,
   "metadata": {},
   "outputs": [],
   "source": [
    "mask = (df[\"Temperature\"] >= 70) & (df[\"Temperature\"] <= 78) & (df[\"Wind Speed\"] <= 7) & (df[\"Cloudiness\"] == 0)\n",
    "ideal_weather_cities = df.loc[mask].reset_index(drop=True)\n",
    "ideal_weather_cities"
   ]
  },
  {
   "cell_type": "code",
   "execution_count": null,
   "metadata": {},
   "outputs": [],
   "source": [
    "#inits\n",
    "hotels = []\n",
    "countries = []\n",
    "\n",
    "base_url = \"https://maps.googleapis.com/maps/api/place/nearbysearch/json\"\n",
    "params = {\n",
    "    \"rankby\": \"distance\",\n",
    "    \"distance\" : 5000,\n",
    "    \"type\": \"hotel\",\n",
    "    \"key\": g_key,\n",
    "}\n",
    "\n",
    "# use iterrows to iterate through pandas dataframe\n",
    "for index, row in ideal_weather_cities.iterrows():\n",
    "    \n",
    "    city_name = row[\"City\"]\n",
    "    location = f\"{row.Latitude}, {row.Longitude}\"\n",
    "\n",
    "    # add location to params dict\n",
    "    params[\"location\"] = location\n",
    "\n",
    "    # assemble url and make API request\n",
    "    print(f\"Retrieving Results for Index {index}: {row['City']}.\")\n",
    "    response = requests.get(base_url, params=params).json()\n",
    "    \n",
    "    # extract results\n",
    "    results = response['results']\n",
    "    \n",
    "    #pprint(results)\n",
    "    \n",
    "    try:\n",
    "        print(f\"Closest hotel in {city_name} is {results[0]['name']}.\")\n",
    "    \n",
    "        hotel = results[0]['name']\n",
    "        country = results[0]['plus_code']['compound_code'].split(\",\")[1]\n",
    "        \n",
    "        hotels.append(hotel)\n",
    "        countries.append(country)\n",
    "        \n",
    "        \n",
    "    except (KeyError, IndexError):\n",
    "        print(\"Missing field/result... skipping.\")\n",
    "        \n",
    "    time.sleep(1)\n",
    "        \n",
    "print(\"------------\")\n",
    "\n",
    "ideal_weather_cities[\"Hotel Name\"] = hotels\n",
    "ideal_weather_cities[\"Country\"] = countries\n",
    "ideal_weather_cities"
   ]
  },
  {
   "cell_type": "code",
   "execution_count": null,
   "metadata": {},
   "outputs": [],
   "source": [
    "list_info = []\n",
    "\n",
    "for indx, row in ideal_weather_cities.iterrows():\n",
    "    info = f\"City: {row.City}<br>-----------<br>Hotel: {row['Hotel Name']}<br>-----------<br>Country: {row.Country}\"\n",
    "    list_info.append(info)"
   ]
  },
  {
   "cell_type": "code",
   "execution_count": null,
   "metadata": {
    "scrolled": false
   },
   "outputs": [],
   "source": [
    "coords = df[[\"Latitude\", \"Longitude\"]]\n",
    "coords_ideal = ideal_weather_cities[[\"Latitude\", \"Longitude\"]]\n",
    "humids = df[\"Humidity\"]\n",
    "\n",
    "# Customize the size of the figure\n",
    "figure_layout = {\n",
    "    'width': '1200px',\n",
    "    'height': '600px',\n",
    "    'border': '1px solid black',\n",
    "    'padding': '1px',\n",
    "    'margin': '0 auto 0 auto'\n",
    "}\n",
    "fig = gmaps.figure(layout=figure_layout, map_type = \"SATELLITE\")\n",
    "\n",
    "# Assign the marker layer to a variable\n",
    "markers = gmaps.marker_layer(coords_ideal, info_box_content=list_info)\n",
    "# Add the layer to the map\n",
    "fig.add_layer(markers)\n",
    "\n",
    "heat = gmaps.heatmap_layer(coords, weights = humids, dissipating=False, max_intensity=500)\n",
    "# Add the layer to the map\n",
    "fig.add_layer(heat)\n",
    "\n",
    "fig"
   ]
  },
  {
   "cell_type": "code",
   "execution_count": null,
   "metadata": {},
   "outputs": [],
   "source": []
  }
 ],
 "metadata": {
  "kernelspec": {
   "display_name": "Python 3",
   "language": "python",
   "name": "python3"
  },
  "language_info": {
   "codemirror_mode": {
    "name": "ipython",
    "version": 3
   },
   "file_extension": ".py",
   "mimetype": "text/x-python",
   "name": "python",
   "nbconvert_exporter": "python",
   "pygments_lexer": "ipython3",
   "version": "3.8.3"
  }
 },
 "nbformat": 4,
 "nbformat_minor": 4
}
